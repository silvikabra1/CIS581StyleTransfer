{
  "nbformat": 4,
  "nbformat_minor": 0,
  "metadata": {
    "colab": {
      "provenance": []
    },
    "kernelspec": {
      "name": "python3",
      "display_name": "Python 3"
    },
    "language_info": {
      "name": "python"
    }
  },
  "cells": [
    {
      "cell_type": "code",
      "source": [
        "%%capture\n",
        "!pip install openai"
      ],
      "metadata": {
        "id": "ZBSEhuGF2l-o"
      },
      "execution_count": 4,
      "outputs": []
    },
    {
      "cell_type": "markdown",
      "source": [
        "Create your account here: https://beta.openai.com/account/api-keys . Afterwards, find your secret api key and put it here."
      ],
      "metadata": {
        "id": "8B0zgvuw3pev"
      }
    },
    {
      "cell_type": "code",
      "source": [
        "from getpass import getpass\n",
        "import os\n",
        "import openai\n",
        "\n",
        "print('Enter OpenAI API key:')\n",
        "openai.api_key = getpass()\n",
        "\n",
        "os.environ['OPENAI_API_KEY']=openai.api_key"
      ],
      "metadata": {
        "colab": {
          "base_uri": "https://localhost:8080/"
        },
        "id": "5iyKiaPO2Qng",
        "outputId": "2b7e39dd-2a2d-4a60-bb2a-be23a790d7b1"
      },
      "execution_count": 5,
      "outputs": [
        {
          "name": "stdout",
          "output_type": "stream",
          "text": [
            "Enter OpenAI API key:\n",
            "··········\n"
          ]
        }
      ]
    },
    {
      "cell_type": "code",
      "execution_count": 6,
      "metadata": {
        "colab": {
          "base_uri": "https://localhost:8080/"
        },
        "id": "_JOKl_GH2FIZ",
        "outputId": "170936b6-de25-400d-a3e4-9d4aa85dd34c"
      },
      "outputs": [
        {
          "output_type": "stream",
          "name": "stdout",
          "text": [
            "squidward having a dinner with Bill Nye the Science Guy\n",
            "squidward having a dinner with Bill Nye the Science Guy\n"
          ]
        }
      ],
      "source": [
        "prompt = input()\n",
        "print(prompt)"
      ]
    },
    {
      "cell_type": "code",
      "source": [
        "response = openai.Image.create(\n",
        "  prompt=prompt,\n",
        "  n=1,\n",
        "  size=\"1024x1024\"\n",
        ")\n",
        "image_url = response['data'][0]['url']"
      ],
      "metadata": {
        "id": "i7Q5ZxHe2Nh2"
      },
      "execution_count": 7,
      "outputs": []
    },
    {
      "cell_type": "code",
      "source": [
        "!pip install pypng"
      ],
      "metadata": {
        "colab": {
          "base_uri": "https://localhost:8080/"
        },
        "id": "aKdhg-_8ai-l",
        "outputId": "a8b52190-eb3b-4803-ddf9-d0c1ee04381a"
      },
      "execution_count": 16,
      "outputs": [
        {
          "output_type": "stream",
          "name": "stdout",
          "text": [
            "Looking in indexes: https://pypi.org/simple, https://us-python.pkg.dev/colab-wheels/public/simple/\n",
            "Collecting pypng\n",
            "  Downloading pypng-0.20220715.0-py3-none-any.whl (58 kB)\n",
            "\u001b[K     |████████████████████████████████| 58 kB 4.2 MB/s \n",
            "\u001b[?25hInstalling collected packages: pypng\n",
            "Successfully installed pypng-0.20220715.0\n"
          ]
        }
      ]
    },
    {
      "cell_type": "code",
      "source": [
        "import requests\n",
        "from io import BytesIO\n",
        "import png\n",
        "\n",
        "\n",
        "# Send a request to the URL and save the response\n",
        "response = requests.get(image_url)\n",
        "\n",
        "# Create a binary stream from the image data\n",
        "im_stream = BytesIO(response.content)\n",
        "\n",
        "# Read the PNG data from the stream\n",
        "reader = png.Reader(im_stream)\n",
        "png_data = reader.read()\n",
        "print(png_data)"
      ],
      "metadata": {
        "colab": {
          "base_uri": "https://localhost:8080/"
        },
        "id": "083yleZV4Acd",
        "outputId": "1c4f77dc-37fa-46f5-b5cc-a683b80048e2"
      },
      "execution_count": 21,
      "outputs": [
        {
          "output_type": "stream",
          "name": "stdout",
          "text": [
            "(1024, 1024, <generator object Reader._iter_bytes_to_values at 0x7f0e39996ac0>, {'greyscale': False, 'alpha': False, 'planes': 3, 'bitdepth': 8, 'interlace': 0, 'size': (1024, 1024)})\n"
          ]
        }
      ]
    }
  ]
}