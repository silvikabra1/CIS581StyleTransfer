{
  "cells": [
    {
      "cell_type": "code",
      "execution_count": null,
      "metadata": {
        "id": "ZBSEhuGF2l-o"
      },
      "outputs": [],
      "source": [
        "%%capture\n",
        "%pip install openai"
      ]
    },
    {
      "cell_type": "markdown",
      "metadata": {
        "id": "8B0zgvuw3pev"
      },
      "source": [
        "Create your account here: https://beta.openai.com/account/api-keys . Afterwards, find your secret api key and put it here."
      ]
    },
    {
      "cell_type": "code",
      "execution_count": null,
      "metadata": {
        "colab": {
          "base_uri": "https://localhost:8080/"
        },
        "id": "5iyKiaPO2Qng",
        "outputId": "2b7e39dd-2a2d-4a60-bb2a-be23a790d7b1"
      },
      "outputs": [],
      "source": [
        "from getpass import getpass\n",
        "import os\n",
        "import openai\n",
        "\n",
        "print('Enter OpenAI API key:')\n",
        "openai.api_key = getpass()\n",
        "\n",
        "os.environ['OPENAI_API_KEY']=openai.api_key"
      ]
    },
    {
      "cell_type": "code",
      "execution_count": null,
      "metadata": {
        "colab": {
          "base_uri": "https://localhost:8080/"
        },
        "id": "_JOKl_GH2FIZ",
        "outputId": "170936b6-de25-400d-a3e4-9d4aa85dd34c"
      },
      "outputs": [],
      "source": [
        "prompt = input()\n",
        "print(prompt)"
      ]
    },
    {
      "cell_type": "code",
      "execution_count": null,
      "metadata": {
        "id": "i7Q5ZxHe2Nh2"
      },
      "outputs": [],
      "source": [
        "response = openai.Image.create(\n",
        "  prompt=prompt,\n",
        "  n=1,\n",
        "  size=\"1024x1024\"\n",
        ")\n",
        "image_url = response['data'][0]['url']"
      ]
    },
    {
      "cell_type": "code",
      "execution_count": null,
      "metadata": {
        "colab": {
          "base_uri": "https://localhost:8080/"
        },
        "id": "aKdhg-_8ai-l",
        "outputId": "a8b52190-eb3b-4803-ddf9-d0c1ee04381a"
      },
      "outputs": [],
      "source": [
        "%pip install pypng"
      ]
    },
    {
      "cell_type": "code",
      "execution_count": 21,
      "metadata": {
        "colab": {
          "base_uri": "https://localhost:8080/"
        },
        "id": "083yleZV4Acd",
        "outputId": "1c4f77dc-37fa-46f5-b5cc-a683b80048e2"
      },
      "outputs": [
        {
          "name": "stdout",
          "output_type": "stream",
          "text": [
            "(1024, 1024, <generator object Reader._iter_bytes_to_values at 0x7f0e39996ac0>, {'greyscale': False, 'alpha': False, 'planes': 3, 'bitdepth': 8, 'interlace': 0, 'size': (1024, 1024)})\n"
          ]
        }
      ],
      "source": [
        "import requests\n",
        "from io import BytesIO\n",
        "import png\n",
        "\n",
        "\n",
        "# Send a request to the URL and save the response\n",
        "response = requests.get(image_url)\n",
        "\n",
        "# Create a binary stream from the image data\n",
        "im_stream = BytesIO(response.content)\n",
        "\n",
        "# Read the PNG data from the stream\n",
        "reader = png.Reader(im_stream)\n",
        "png_data = reader.read()\n",
        "print(png_data)"
      ]
    }
  ],
  "metadata": {
    "colab": {
      "provenance": []
    },
    "kernelspec": {
      "display_name": "Python 3",
      "name": "python3"
    },
    "language_info": {
      "name": "python"
    }
  },
  "nbformat": 4,
  "nbformat_minor": 0
}
